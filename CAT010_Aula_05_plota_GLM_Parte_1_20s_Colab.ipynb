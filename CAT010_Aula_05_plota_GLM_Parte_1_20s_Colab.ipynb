{
  "nbformat": 4,
  "nbformat_minor": 0,
  "metadata": {
    "colab": {
      "provenance": [],
      "collapsed_sections": [
        "Mcngv33YYHkU",
        "ZmbMx5Lob7_L",
        "ie7pw5HqA9CZ",
        "8MXhx2kSRHKF",
        "jTtj3tSBYZYl",
        "FGWRyugDycmk",
        "vbOiqbrTyy_w",
        "cpNIFXjvywWQ",
        "9mVVehpByuF6",
        "GDmbSnZcjAYw",
        "O_PZ13NnqXIE",
        "ruf6OFkxt7mp",
        "4ChsGLPbt9YT",
        "q4dFVzS7wKn5",
        "fONrLVi4yMWR",
        "hE_QSdpax6Ma",
        "SJIMu6cHx1ZM",
        "qevIWyQuwnWZ",
        "5hgz0k9Dwzmx",
        "pGJOzJFBlQ0Z",
        "Au99cyizlXWt",
        "vW6rGhfuliZr",
        "0Je_sL8XnH4u",
        "v6nL2-QGjVTX",
        "HPPey2j2p5oP",
        "ZAZRWcQaqUdY"
      ],
      "include_colab_link": true
    },
    "kernelspec": {
      "display_name": "Python 3",
      "name": "python3"
    },
    "language_info": {
      "name": "python"
    }
  },
  "cells": [
    {
      "cell_type": "markdown",
      "metadata": {
        "id": "view-in-github",
        "colab_type": "text"
      },
      "source": [
        "<a href=\"https://colab.research.google.com/github/evmpython/CAT010_UNIFEI_2025/blob/main/CAT010_Aula_05_plota_GLM_Parte_1_20s_Colab.ipynb\" target=\"_parent\"><img src=\"https://colab.research.google.com/assets/colab-badge.svg\" alt=\"Open In Colab\"/></a>"
      ]
    },
    {
      "cell_type": "markdown",
      "source": [
        "---\n",
        "\n",
        "\n",
        "#  🟢 **Disciplina CAT010** - Aplicações dos Satélites em Ciências Atmosféricas\n",
        "\n",
        "\n",
        "---\n",
        "\n",
        "## **Aula Prática 5 - Parte 1:** $\\underline{Plotando\\ e\\ Analisando\\ Relâmpagos\\ Estimados\\ pelo\\ Satélite\\ GOES-16}$\n",
        "---\n",
        "**OBJETIVO:** Nesta aula prática aprenderemos como trabalhar com dados de relâmpagos estimado por satélite. Para isto usaremos os dados do sensor [Geostationary Lightning Mapper (GLM)](https://space.oscar.wmo.int/instruments/view/glm) abordo do satélite [Geostationary Operational Environmental Satellite - 16 (GOES-16)](https://space.oscar.wmo.int/satellites/view/goes_16). O objetivo dessa **Parte 1** é aprender como plotar e analisar os dados a cada 20s do GLM e combiná-los com imagens de satélite.\n",
        "\n",
        "---\n",
        "\n",
        "\n",
        "**DADOS DE ENTRADA**: Arquivos de relâmpagos.\n",
        "\n",
        "1. $\\underline{Dados\\ de\\ Relâmpagos}$: sensor GLM do satélite GOES-16\n",
        "- **Tipo do dado:** pontuais\n",
        "- **Formato do dado:** arquivo NETCDF\n",
        "- **Nome do arquivo:** OR_GLM-L2-LCFA_G16_s20210010306000_e20210010306204_c20210010306215.nc\n",
        "- **Fonte dos dados:** FTP da [Amazon](https://noaa-goes16.s3.amazonaws.com/index.html#GLM-L2-LCFA/)\n",
        "\n",
        "    ----------\n",
        "\n",
        "2. $\\underline{Dados\\ de\\ Tempertura\\ de\\ Brilho}$: sensor ABI do satélite GOES-16\n",
        "- **Tipo do dado:** matriz\n",
        "- **Formato do dado:** arquivo NETCDF\n",
        "- **Nome do arquivo:** S10635346_202001231200.nc\n",
        "- **Fonte dos dados:** FTP do [CPTEC/INPE](http://ftp.cptec.inpe.br/goes/goes16/retangular/ch13/)\n",
        "\n",
        "\n",
        "---\n",
        "\n",
        "**DADOS DE SAÍDA:** .\n",
        "- **Tipo do dado:** Figura\n",
        "- **Formato do dado:** arquivos JPG\n",
        "- **Imagens geradas:**\n",
        "    1. Fig_1_goes16_flash_20210101_1700.jpg\n",
        "    2. Fig_2_goes16_flash_20210101_1700_recorte.jpg\n",
        "    3. Fig_3_goes16_flash_20210101_1700_recorte.jpg\n",
        "    4. Fig_3_animation.gif\n",
        "    5. Fig_4_goes16_evento_grupo_flash_20210101_1700_recorte.jpg\n",
        "\n",
        "---\n",
        "\n",
        "**PROCEDIMENTO REALIZADO:** Os seguintes procedimentos são realizados nesse código:\n",
        "1.   Instalação de bibliotecas\n",
        "2.   Download de arquivos auxiliares\n",
        "3.   Monta o google drive\n",
        "4.   Define o caminho do google drive\n",
        "5.   Importação das bibliotecas\n",
        "6.   Define funções\n",
        "7.   Conhecendo os dados de relâmpagos a cada 20 s do sensor GLM\n",
        "8.   Combinando imagem de satélite com flashes: América do Sul\n",
        "9.   Combinando imagem de satélite com flashes: Área com recorte\n",
        "10. Faz animação das imagens combinadas de satélite e flashes: Área com recorte\n",
        "11. Combinando imagem de satélite com eventos, grupos e flashes: Área com recorte\n",
        "\n",
        "\n",
        "---\n",
        "**OBSERVAÇÕES IMPORTANTES**:\n",
        "1. Fazer mudanças, veja em: **### >>> MUDANÇAS AQUI <<< ###**\n",
        "    - 1. Caminho do seu drive\n",
        "\n",
        "---\n",
        "- **Realizado por:** Enrique V. Mattos - 18/05/2022\n",
        "- **Atualizado por:** Enrique V. Mattos - 11/11/2024\n",
        "\n",
        "\n",
        "---\n"
      ],
      "metadata": {
        "id": "-BIbVTQsnYeu"
      }
    },
    {
      "cell_type": "markdown",
      "metadata": {
        "id": "Mcngv33YYHkU"
      },
      "source": [
        "# **1° Passo:** Instalando as bibliotecas"
      ]
    },
    {
      "cell_type": "code",
      "source": [
        "!pip install -q ultraplot cartopy boto3 rasterio pyproj geopandas salem descartes boto3 gdal"
      ],
      "metadata": {
        "id": "wVHE877j-RaX"
      },
      "execution_count": null,
      "outputs": []
    },
    {
      "cell_type": "markdown",
      "source": [
        "# **2° Passo:** Download de Arquivos Auxiliares\n"
      ],
      "metadata": {
        "id": "ZmbMx5Lob7_L"
      }
    },
    {
      "cell_type": "code",
      "source": [
        "# Download do arquivo \"utilities.py\"\n",
        "!wget -c https://github.com/evmpython/CAT010_UNIFEI_2025/raw/main/utils/utilities_goes16.py\n",
        "\n",
        "# Download da paleta de cores para o canal do infravermelho\n",
        "!wget -c https://github.com/evmpython/CAT010_UNIFEI_2025/raw/main/utils/ir.cpt"
      ],
      "metadata": {
        "id": "Q6wQG9A1b3NN"
      },
      "execution_count": null,
      "outputs": []
    },
    {
      "cell_type": "markdown",
      "source": [
        "# **3° Passo:** Montando drive"
      ],
      "metadata": {
        "id": "ie7pw5HqA9CZ"
      }
    },
    {
      "cell_type": "code",
      "source": [
        "from google.colab import drive\n",
        "drive.mount('/content/drive')"
      ],
      "metadata": {
        "id": "g5p1fXQ3A949"
      },
      "execution_count": null,
      "outputs": []
    },
    {
      "cell_type": "markdown",
      "source": [
        "# **4° Passo:** Caminho do diretório - **### >>> MUDANÇAS AQUI <<< ###**"
      ],
      "metadata": {
        "id": "8MXhx2kSRHKF"
      }
    },
    {
      "cell_type": "markdown",
      "source": [
        "- Insira aqui o caminho da pasta do seu Google Drive onde esta o código dessa aula: `alterar aqui`"
      ],
      "metadata": {
        "id": "9AAx3BA3-zLK"
      }
    },
    {
      "cell_type": "code",
      "source": [
        "dir = '/content/drive/MyDrive/00_DISPONIBILIZAÇÃO_DE_AULAS/2_SEGUNDO_SEMESTRE/CAT010 - APLICAÇÕES DOS SATÉLITES EM CIÊNCIAS ATMOSFÉRICAS/AULAS/CAT010 - PYTHON PARA SATÉLITES METEOROLÓGICOS/AULA_05_RELAMPAGOS/'"
      ],
      "metadata": {
        "id": "xltQ47vVRHP4"
      },
      "execution_count": null,
      "outputs": []
    },
    {
      "cell_type": "markdown",
      "source": [
        "- **Criando a pasta de saída (\"output\")**\n"
      ],
      "metadata": {
        "id": "ibtpS0Zi-wim"
      }
    },
    {
      "cell_type": "code",
      "source": [
        "import os\n",
        "os.makedirs(f'{dir}output', exist_ok=True)"
      ],
      "metadata": {
        "id": "FjgzX3SU-uC7"
      },
      "execution_count": null,
      "outputs": []
    },
    {
      "cell_type": "markdown",
      "metadata": {
        "id": "jTtj3tSBYZYl"
      },
      "source": [
        "# **5° Passo:** Importando as bibliotecas"
      ]
    },
    {
      "cell_type": "code",
      "metadata": {
        "id": "GP5E9RW6XZRT"
      },
      "source": [
        "# ======================================================\n",
        "# BIBLIOTECAS PARA PROCESSAMENTO E ANÁLISE DE DADOS\n",
        "# ======================================================\n",
        "import numpy as np                                      # Cálculos numéricos com arrays multidimensionais\n",
        "import pandas as pd                                     # Manipulação e análise de dados em tabelas\n",
        "import xarray as xr                                     # Trabalho com datasets multidimensionais (netCDF, HDF5)\n",
        "import glob                                             # Listagem de arquivos por padrão de nome\n",
        "\n",
        "# ======================================================\n",
        "# BIBLIOTECAS PARA VISUALIZAÇÃO E MAPEAMENTO\n",
        "# ======================================================\n",
        "import ultraplot as uplt                                # Visualização avançada para dados meteorológicos\n",
        "import cartopy.crs as ccrs                              # Sistemas de referência para projeções de mapas\n",
        "import cartopy.io.shapereader as shpreader              # Leitura de arquivos shapefile\n",
        "import salem                                            # Ferramentas geoespaciais integradas com xarray\n",
        "from matplotlib.colors import LinearSegmentedColormap   # Criação de mapas de cores customizados\n",
        "from matplotlib import cm                               # Utilitários para gerenciamento de cores em gráficos\n",
        "import imageio                                          # Leitura e escrita de arquivos de imagem\n",
        "\n",
        "# ======================================================\n",
        "# BIBLIOTECAS PARA MANIPULAÇÃO DE TEMPO E DATAS\n",
        "# ======================================================\n",
        "import calendar                                         # Funções relacionadas a calendário\n",
        "from datetime import timedelta, date, datetime          # Manipulação de datas e horários\n",
        "import time as t                                        # Funções para medição e controle de tempo\n",
        "from time import process_time                           # Medição precisa de tempo de processamento\n",
        "\n",
        "# ======================================================\n",
        "# BIBLIOTECAS PARA ACESSO A DADOS E ARMAZENAMENTO\n",
        "# ======================================================\n",
        "import os                                               # Interação com o sistema operacional\n",
        "import boto3                                            # Interface com serviços AWS (Amazon Web Services)\n",
        "from botocore import UNSIGNED                           # Configuração para acesso anônimo na AWS\n",
        "from botocore.config import Config                      # Configurações do cliente AWS\n",
        "\n",
        "# ======================================================\n",
        "# UTILITÁRIOS PERSONALIZADOS\n",
        "# ======================================================\n",
        "from utilities_goes16 import loadCPT                     # Carregamento de paletas de cores para dados GOES-16\n",
        "\n",
        "# ======================================================\n",
        "# CONTROLE DE AVISOS\n",
        "# ======================================================\n",
        "import warnings                                         # Gerenciamento de mensagens de alerta\n",
        "warnings.filterwarnings(\"ignore\")                       # Supressão de avisos durante a execução"
      ],
      "execution_count": null,
      "outputs": []
    },
    {
      "cell_type": "markdown",
      "source": [
        "# **6° Passo:** Definindo funções"
      ],
      "metadata": {
        "id": "FGWRyugDycmk"
      }
    },
    {
      "cell_type": "markdown",
      "source": [
        "## - **Função que baixa os dados do GLM (GOES-16) no site de Amazon**"
      ],
      "metadata": {
        "id": "vbOiqbrTyy_w"
      }
    },
    {
      "cell_type": "code",
      "source": [
        "def download_GLM(yyyymmddhhmnss: str, path_dest: str) -> str:\n",
        "\n",
        "    \"\"\"\n",
        "    Faz o download de dados do sensor GLM (Geostationary Lightning Mapper) do satélite GOES-16.\n",
        "\n",
        "    Os arquivos são buscados no repositório público da AWS (Amazon Web Services) e salvos\n",
        "    localmente no formato NetCDF (.nc).\n",
        "\n",
        "    Parâmetros\n",
        "    ----------\n",
        "    yyyymmddhhmnss : str\n",
        "        Data no formato 'YYYYMMDDHHMMSS' para buscar os dados.\n",
        "        Exemplo: '20230101120000' (1º de Janeiro de 2023, 12:00:00 UTC)\n",
        "    path_dest : str\n",
        "        Diretório de destino onde o arquivo será salvo.\n",
        "        Exemplo: '/content/dados/GLM'\n",
        "\n",
        "    Retorna\n",
        "    -------\n",
        "    str\n",
        "        Nome do arquivo baixado (sem extensão) em caso de sucesso.\n",
        "        Retorna -1 se nenhum arquivo for encontrado para a data especificada.\n",
        "\n",
        "    Exemplos\n",
        "    --------\n",
        "    >>> download_GLM('20230101120000', '/content/dados/GLM')\n",
        "    'OR_GLM-L2-LCFA_G16_s2023001120000'\n",
        "    \"\"\"\n",
        "\n",
        "    # Cria o diretório de destino se não existir\n",
        "    os.makedirs(path_dest, exist_ok=True)\n",
        "\n",
        "    # Extrai componentes da data\n",
        "    dt = datetime.strptime(yyyymmddhhmnss, '%Y%m%d%H%M%S')\n",
        "    year = dt.strftime('%Y')\n",
        "    day_of_year = dt.strftime('%j')  # Dia juliano (001-366)\n",
        "    hour = dt.strftime('%H')\n",
        "    minute = dt.strftime('%M')\n",
        "    second = dt.strftime('%S')\n",
        "\n",
        "    # Configuração do cliente AWS S3 (acesso público)\n",
        "    bucket_name = 'noaa-goes16'\n",
        "    s3_client = boto3.client('s3', config=Config(signature_version=UNSIGNED))\n",
        "\n",
        "    # Estrutura do arquivo no repositório AWS\n",
        "    product_name = \"GLM-L2-LCFA\"\n",
        "    prefix = (f'{product_name}/{year}/{day_of_year}/{hour}/'\n",
        "        f'OR_{product_name}_G16_s{year}{day_of_year}{hour}{minute}{second}')\n",
        "\n",
        "    # Busca o arquivo no servidor S3\n",
        "    s3_result = s3_client.list_objects_v2(Bucket=bucket_name,\n",
        "                                          Prefix=prefix,\n",
        "                                          Delimiter=\"/\")\n",
        "\n",
        "    # Verifica se existem resultados\n",
        "    if 'Contents' not in s3_result:\n",
        "        print(f'Nenhum arquivo encontrado para: {yyyymmddhhmnss}, Produto-{product_name}')\n",
        "        return -1\n",
        "\n",
        "    # Processa o arquivo encontrado\n",
        "    for obj in s3_result['Contents']:\n",
        "        key = obj['Key']\n",
        "\n",
        "    # Extrai o nome do arquivo (sem extensão)\n",
        "    file_name = key.split('/')[-1].split('.')[0]\n",
        "    dest_path = f'{path_dest}/{file_name}.nc'\n",
        "\n",
        "    # Verifica se o arquivo já existe localmente\n",
        "    if os.path.exists(dest_path):\n",
        "        print(f'Arquivo {dest_path} já existe')\n",
        "    else:\n",
        "        print(f'Baixando arquivo: {dest_path}')\n",
        "        s3_client.download_file(bucket_name, key, dest_path)\n",
        "\n",
        "    return file_name"
      ],
      "metadata": {
        "id": "8v_epNftca8f"
      },
      "execution_count": null,
      "outputs": []
    },
    {
      "cell_type": "markdown",
      "source": [
        "## - **Função que baixa as imagens do ABI no ftp do CPTEC**"
      ],
      "metadata": {
        "id": "cpNIFXjvywWQ"
      }
    },
    {
      "cell_type": "code",
      "source": [
        "def download_ABI_CPTEC(ano: str, mes: str, dia: str, hor: str, min: str, canal: str) -> str:\n",
        "\n",
        "    \"\"\"\n",
        "    Faz o download de dados do satélite GOES-16 (ABI) do repositório do CPTEC/INPE.\n",
        "\n",
        "    Os arquivos são baixados do FTP público do CPTEC no formato NetCDF (.nc) e salvos\n",
        "    no diretório '/content/' do ambiente de execução.\n",
        "\n",
        "    Parâmetros\n",
        "    ----------\n",
        "    ano : str\n",
        "        Ano com 4 dígitos (ex: '2023')\n",
        "    mes : str\n",
        "        Mês com 2 dígitos (ex: '01' para Janeiro)\n",
        "    dia : str\n",
        "        Dia com 2 dígitos (ex: '15')\n",
        "    hor : str\n",
        "        Hora com 2 dígitos (ex: '12' para 12:00 UTC)\n",
        "    min : str\n",
        "        Minutos com 2 dígitos (ex: '00')\n",
        "    canal : str\n",
        "        Canal do ABI a ser baixado. Valores aceitos: 'ch02', 'ch08', 'ch13'\n",
        "\n",
        "    Retorna\n",
        "    -------\n",
        "    str\n",
        "        Caminho completo do arquivo baixado no formato:\n",
        "        '/content/S10635334_YYYYMMDDHHMM.nc'\n",
        "\n",
        "    Exemplos\n",
        "    --------\n",
        "    >>> download_ABI_CPTEC('2023', '01', '15', '12', '00', 'ch13')\n",
        "    '/content/S10635346_202301151200.nc'\n",
        "\n",
        "    Notas\n",
        "    -----\n",
        "    Os canais disponíveis correspondem a:\n",
        "    - ch02: Visível (0.64 µm)\n",
        "    - ch08: Infravermelho (6.2 µm)\n",
        "    - ch13: Infravermelho (10.3 µm)\n",
        "    \"\"\"\n",
        "\n",
        "    # Validação básica dos parâmetros\n",
        "    if canal not in ['ch02', 'ch08', 'ch13']:\n",
        "        raise ValueError(\"Canal inválido. Use 'ch02', 'ch08' ou 'ch13'\")\n",
        "\n",
        "    print(f'Baixando dado ===> DATA={ano}/{mes}/{dia} {hor}:{min} / CANAL={canal}')\n",
        "\n",
        "    # Configuração do FTP do CPTEC\n",
        "    ftp_cptec = 'http://ftp.cptec.inpe.br/goes/'\n",
        "\n",
        "    # Mapeamento de canais para códigos de produto\n",
        "    canal_para_codigo = {'ch02': 'S10635334',\n",
        "                         'ch08': 'S10635340',\n",
        "                         'ch13': 'S10635346'}\n",
        "    codigo_produto = canal_para_codigo[canal]\n",
        "\n",
        "    # Construção da URL do arquivo remoto\n",
        "    url_arquivo = (f'{ftp_cptec}goes16/retangular/{canal}/{ano}/{mes}/'\n",
        "                   f'{codigo_produto}_{ano}{mes}{dia}{hor}{min}.nc')\n",
        "\n",
        "    # Nome do arquivo local\n",
        "    nome_arquivo_local = f'{codigo_produto}_{ano}{mes}{dia}{hor}{min}.nc'\n",
        "    caminho_local = f'/content/{nome_arquivo_local}'\n",
        "\n",
        "    # Verifica se o arquivo já existe antes de baixar\n",
        "    if not os.path.exists(caminho_local):\n",
        "\n",
        "        # Download usando wget (com opção -c para continuar downloads interrompidos)\n",
        "        !wget -c {url_arquivo}\n",
        "\n",
        "    else:\n",
        "\n",
        "        print(f'Arquivo {caminho_local} já existe. Pulando download.')\n",
        "\n",
        "    return caminho_local"
      ],
      "metadata": {
        "id": "O_2vdnZJyouT"
      },
      "execution_count": null,
      "outputs": []
    },
    {
      "cell_type": "markdown",
      "source": [
        "## - **Função que baixa e acumula flashes no intervalo temporal da imagem**"
      ],
      "metadata": {
        "id": "9mVVehpByuF6"
      }
    },
    {
      "cell_type": "code",
      "source": [
        "def download_e_acumula_GLM(ano: str, mes: str, dia: str, hor: str, min: str) -> tuple:\n",
        "\n",
        "    \"\"\"\n",
        "    Baixa e acumula dados de raios do sensor GLM (GOES-16) em um período de 10 minutos.\n",
        "\n",
        "    Esta função realiza o download de múltiplos arquivos GLM em intervalos de 20 segundos,\n",
        "    acumulando as posições de eventos, grupos e flashes de raios.\n",
        "\n",
        "    Parâmetros\n",
        "    ----------\n",
        "    ano : str\n",
        "        Ano com 4 dígitos (ex: '2023')\n",
        "    mes : str\n",
        "        Mês com 2 dígitos (ex: '01' para Janeiro)\n",
        "    dia : str\n",
        "        Dia com 2 dígitos (ex: '15')\n",
        "    hor : str\n",
        "        Hora com 2 dígitos (ex: '12' para 12:00 UTC)\n",
        "    min : str\n",
        "        Minutos com 2 dígitos (ex: '00')\n",
        "\n",
        "    Retorna\n",
        "    -------\n",
        "    tuple\n",
        "        Uma tupla contendo seis arrays numpy na seguinte ordem:\n",
        "        - lats_event: Latitudes dos eventos de raios\n",
        "        - lons_event: Longitudes dos eventos de raios\n",
        "        - lats_group: Latitudes dos grupos de raios\n",
        "        - lons_group: Longitudes dos grupos de raios\n",
        "        - lats_flash: Latitudes dos flashes de raios\n",
        "        - lons_flash: Longitudes dos flashes de raios\n",
        "\n",
        "    Exemplo\n",
        "    -------\n",
        "    >>> lats_event, lons_event, lats_group, lons_group, lats_flash, lons_flash = \\\n",
        "    ...     download_e_acumula_GLM('2023', '01', '15', '12', '00')\n",
        "    \"\"\"\n",
        "\n",
        "    # Converte para datetime e define o período de 10 minutos\n",
        "    dt_ini = datetime(int(ano), int(mes), int(dia), int(hor), int(min))\n",
        "    dt_end = dt_ini + timedelta(minutes=10)\n",
        "\n",
        "    # Inicializa arrays de armazenamento\n",
        "    lats_event, lons_event = np.array([]), np.array([])\n",
        "    lats_group, lons_group = np.array([]), np.array([])\n",
        "    lats_flash, lons_flash = np.array([]), np.array([])\n",
        "\n",
        "    # Loop de acumulação\n",
        "    current_time = dt_ini\n",
        "\n",
        "    while current_time < dt_end:\n",
        "\n",
        "        try:\n",
        "\n",
        "            # Formata a data para o padrão do arquivo\n",
        "            yyyymmddhhmnss = current_time.strftime('%Y%m%d%H%M%S')\n",
        "\n",
        "            # Download do arquivo GLM\n",
        "            file_glm = download_GLM(yyyymmddhhmnss, '/content')\n",
        "\n",
        "            if file_glm != -1:  # Verifica se o download foi bem-sucedido\n",
        "\n",
        "                # Leitura do arquivo NetCDF\n",
        "                with xr.open_dataset(f'/content/{file_glm}.nc') as ds:\n",
        "\n",
        "                    # Acumula as coordenadas\n",
        "                    lats_event = np.append(lats_event, ds['event_lat'].values)\n",
        "                    lons_event = np.append(lons_event, ds['event_lon'].values)\n",
        "\n",
        "                    lats_group = np.append(lats_group, ds['group_lat'].values)\n",
        "                    lons_group = np.append(lons_group, ds['group_lon'].values)\n",
        "\n",
        "                    lats_flash = np.append(lats_flash, ds['flash_lat'].values)\n",
        "                    lons_flash = np.append(lons_flash, ds['flash_lon'].values)\n",
        "\n",
        "            # Incrementa 20 segundos\n",
        "            current_time += timedelta(seconds=20)\n",
        "\n",
        "        except Exception as e:\n",
        "            print(f\"Erro ao processar {current_time}: {str(e)}\")\n",
        "            current_time += timedelta(seconds=20)  # Continua mesmo com erro\n",
        "\n",
        "    return lats_event, lons_event, lats_group, lons_group, lats_flash, lons_flash"
      ],
      "metadata": {
        "id": "l8NDQeK2yow4"
      },
      "execution_count": null,
      "outputs": []
    },
    {
      "cell_type": "markdown",
      "metadata": {
        "id": "GDmbSnZcjAYw"
      },
      "source": [
        "# **PARTE 1)**: Conhecendo os dados de relâmpagos a cada **20 s** do sensor GLM"
      ]
    },
    {
      "cell_type": "markdown",
      "source": [
        "##**a) nome do arquivo**"
      ],
      "metadata": {
        "id": "O_PZ13NnqXIE"
      }
    },
    {
      "cell_type": "markdown",
      "source": [
        "---\n",
        "1. **Descrição:** São os dados originais gerados pela NOAA.\n",
        "---\n",
        "2. **Onde baixar os dados:** Os dados de relâmpagos do sensor GLM abordo do satélite GOES-16 podem ser baixados no site da Amazon ou do CPTEC.\n",
        "---\n",
        "   1. **FORMA 1:** Os dados do GOES-16/17 são disponibilizados pela Amazon nesse [link](https://home.chpc.utah.edu/~u0553130/Brian_Blaylock/cgi-bin/goes16_download.cgi?source=aws&satellite=noaa-goes16&domain=F&product=GLM-L2-LCFA&date=2021-03-04&hour=13) e nesse [repositório](https://noaa-goes16.s3.amazonaws.com/index.html#GLM-L2-LCFA/).\n",
        "\n",
        "- Formato dos arquivos: Netcdf. Os dados estão como vetores.\n",
        "- Como baixar pelo Colab: !wget https://noaa-goes16.s3.amazonaws.com/GLM-L2-LCFA/2021/302/01/OR_GLM-L2-LCFA_G16_s20213020100000_e20213020100200_c20213020100228.nc\n",
        "\n",
        "- Exemplos dos arquivos:\n",
        "    - OR_GLM-L2-LCFA_G16_s20210101300000_e20210101300204_c20210101300214.nc\n",
        "    - OR_GLM-L2-LCFA_G16_s20210101300200_e20210101300404_c20210101300424.nc\n",
        "    - OR_GLM-L2-LCFA_G16_s20210101300400_e20210101301005_c20210101301021.nc\n",
        "    - OR_GLM-L2-LCFA_G16_s20210101301000_e20210101301205_c20210101301215.nc\n",
        "    - OR_GLM-L2-LCFA_G16_s20210101301200_e20210101301405_c20210101301428.nc\n",
        "    - OR_GLM-L2-LCFA_G16_s20210101301400_e20210101302005_c20210101302018.nc.\n",
        "\n",
        "- Informações que constam nos nomes dos arquivos:  \n",
        "    - **OR_GLM-L2-LCFA**: Nome do sensor (GLM), Nível de processamento (L2)\n",
        "    - **G16**: Nome do satélite\n",
        "    -**s20210101300000**: inicio do Scan (s). ano (2021), dia juliano (010), hora (13), minuto (00) e segundos (000)\n",
        "    -**e20210101300204**: fim do Scan (s). ano (2021), dia juliano (010), hora (13), minuto (00) e segundos (204=20.4)\n",
        "    -**c20210101300214**: data de criação do arquivo (c). ano (2021), dia juliano (010), hora (13), minuto (00) e segundos (214=21.4)\n",
        "\n",
        "\n",
        "---\n",
        "   2. **FORMA 2:** Os dados do GOES-16 também disponibilizados esses dados e podem serem baixados no [FTP](http://ftp.cptec.inpe.br/goes/goes16/glm/) do CPTEC. A explicação sobre os arquivos é a mesma dada para os dados da Amazon.\n",
        "---"
      ],
      "metadata": {
        "id": "Tqa2Pq-uvHUW"
      }
    },
    {
      "cell_type": "code",
      "source": [
        "# nome do arquivo\n",
        "file_20s = 'OR_GLM-L2-LCFA_G16_s20210010307000_e20210010307203_c20210010307223.nc'"
      ],
      "metadata": {
        "id": "-n6euT9qt5bo"
      },
      "execution_count": null,
      "outputs": []
    },
    {
      "cell_type": "markdown",
      "source": [
        "##**b) leitura do arquivo**"
      ],
      "metadata": {
        "id": "ruf6OFkxt7mp"
      }
    },
    {
      "cell_type": "code",
      "source": [
        "# url do arquivo no github\n",
        "url = f'https://github.com/evmpython/CAT010_UNIFEI_2025/raw/main/input/aula_05/{file_20s}'\n",
        "\n",
        "# baixa o arquivo do github\n",
        "!wget -c {url}\n",
        "\n",
        "# leitura do arquivo\n",
        "ds = xr.open_dataset(f'{file_20s}')"
      ],
      "metadata": {
        "id": "Qh7qjY4qt5eU"
      },
      "execution_count": null,
      "outputs": []
    },
    {
      "cell_type": "code",
      "source": [
        "# exibe os dados\n",
        "ds"
      ],
      "metadata": {
        "id": "Ez3YMmTpt5hB"
      },
      "execution_count": null,
      "outputs": []
    },
    {
      "cell_type": "markdown",
      "source": [
        "##**c) exibindo os dados**"
      ],
      "metadata": {
        "id": "4ChsGLPbt9YT"
      }
    },
    {
      "cell_type": "code",
      "source": [
        "# latitude dos eventos\n",
        "ds['event_lat']"
      ],
      "metadata": {
        "id": "RLkYiwQ9uDne"
      },
      "execution_count": null,
      "outputs": []
    },
    {
      "cell_type": "code",
      "source": [
        "# longitude dos eventos\n",
        "ds['event_lon']"
      ],
      "metadata": {
        "id": "2cfRW-rwuDqE"
      },
      "execution_count": null,
      "outputs": []
    },
    {
      "cell_type": "code",
      "source": [
        "# transformando a latitude para um array\n",
        "lats_event = np.array((ds['event_lat']))\n",
        "lats_event"
      ],
      "metadata": {
        "id": "k4BeBdBsuDs2"
      },
      "execution_count": null,
      "outputs": []
    },
    {
      "cell_type": "code",
      "source": [
        "# formato do array\n",
        "lats_event.shape"
      ],
      "metadata": {
        "id": "F9RjkTF6t5mX"
      },
      "execution_count": null,
      "outputs": []
    },
    {
      "cell_type": "code",
      "source": [
        "# transformando a latitude para um array\n",
        "lons_event = np.array((ds['event_lon']))\n",
        "lons_event"
      ],
      "metadata": {
        "id": "IQ5C-rHyuJCJ"
      },
      "execution_count": null,
      "outputs": []
    },
    {
      "cell_type": "code",
      "source": [
        "# formato do array\n",
        "lons_event.shape"
      ],
      "metadata": {
        "id": "KCf0YnnBuJE_"
      },
      "execution_count": null,
      "outputs": []
    },
    {
      "cell_type": "code",
      "source": [
        "# latitude dos grupos\n",
        "ds['group_lat']"
      ],
      "metadata": {
        "id": "_X0iLPTwuJHb"
      },
      "execution_count": null,
      "outputs": []
    },
    {
      "cell_type": "code",
      "source": [
        "# longitude dos grupos\n",
        "ds['group_lon']"
      ],
      "metadata": {
        "id": "sKVlyty_uJKP"
      },
      "execution_count": null,
      "outputs": []
    },
    {
      "cell_type": "code",
      "source": [
        "# latitude dos flashes\n",
        "ds['flash_lat']"
      ],
      "metadata": {
        "id": "JswKiS-vuNPk"
      },
      "execution_count": null,
      "outputs": []
    },
    {
      "cell_type": "code",
      "source": [
        "# longitude dos flashes\n",
        "ds['flash_lon']"
      ],
      "metadata": {
        "id": "fFv75PQauNSR"
      },
      "execution_count": null,
      "outputs": []
    },
    {
      "cell_type": "markdown",
      "source": [
        "# **PARTE 2)**: Combinando imagem de satélite com flashes: América do Sul"
      ],
      "metadata": {
        "id": "q4dFVzS7wKn5"
      }
    },
    {
      "cell_type": "markdown",
      "source": [
        "##**a) Definindo data/horário e canal da imagem**"
      ],
      "metadata": {
        "id": "fONrLVi4yMWR"
      }
    },
    {
      "cell_type": "code",
      "source": [
        "# define data/horário e canal\n",
        "ano, mes, dia, hor, min, canal = '2021', '01', '01', '17', '00', 'ch13'"
      ],
      "metadata": {
        "id": "mSlV86PryMcY"
      },
      "execution_count": null,
      "outputs": []
    },
    {
      "cell_type": "code",
      "source": [
        "# baixa imagem de satélite do FTP do CPTEC\n",
        "file_ir_download = download_ABI_CPTEC(ano, mes, dia, hor, min, canal)"
      ],
      "metadata": {
        "id": "4zW0VTWJyUlR"
      },
      "execution_count": null,
      "outputs": []
    },
    {
      "cell_type": "markdown",
      "source": [
        "##**b) Acumula os flashes**"
      ],
      "metadata": {
        "id": "hE_QSdpax6Ma"
      }
    },
    {
      "cell_type": "code",
      "source": [
        "# define data a INICIAL para acumular os relâmpagos\n",
        "date_ini = str(datetime(int(ano), int(mes), int(dia), int(hor), int(min)))\n",
        "\n",
        "# define data FINAL para acumular os relâmpagos\n",
        "date_end = str(datetime(int(ano), int(mes), int(dia), int(hor), int(min)) + timedelta(minutes=10)) # soma 10 minutos na data inicial"
      ],
      "metadata": {
        "id": "nD4dBy_RyAVb"
      },
      "execution_count": null,
      "outputs": []
    },
    {
      "cell_type": "code",
      "source": [
        "# mostra na tela as datas\n",
        "print('Tipo da variável=', type(date_ini))\n",
        "print('Tipo da variável=', type(date_end))\n",
        "print('Data Inicial=', date_ini)\n",
        "print('Data Final=', date_end)"
      ],
      "metadata": {
        "id": "2CyQsd2Rzg_f"
      },
      "execution_count": null,
      "outputs": []
    },
    {
      "cell_type": "code",
      "source": [
        "# inicializa os arrays de latitude e longitude\n",
        "lats_event, lons_event = np.array([]), np.array([])\n",
        "lats_group, lons_group = np.array([]), np.array([])\n",
        "lats_flash, lons_flash = np.array([]), np.array([])\n",
        "\n",
        "# loop da acumulação de relâmpagos\n",
        "while (date_ini < date_end):\n",
        "\n",
        "    # mostra na tela a data de processamento atual\n",
        "    print('PROCESSANDO DATA....', date_ini)\n",
        "\n",
        "    # estrutura da data\n",
        "    yyyymmddhhmnss = datetime.strptime(date_ini, '%Y-%m-%d %H:%M:%S').strftime('%Y%m%d%H%M%S')\n",
        "\n",
        "    # baixando GLM\n",
        "    file_glm = download_GLM(yyyymmddhhmnss, '/content')\n",
        "\n",
        "    # leitura GLM\n",
        "    ds = xr.open_dataset(f'/content/{file_glm}.nc')\n",
        "\n",
        "    # apenda as lats/lons dos eventos, grupos e flashes\n",
        "    lats_event = np.append(lats_event, ds['event_lat'])\n",
        "    lons_event = np.append(lons_event, ds['event_lon'])\n",
        "\n",
        "    lats_group = np.append(lats_group, ds['group_lat'])\n",
        "    lons_group = np.append(lons_group, ds['group_lon'])\n",
        "\n",
        "    lats_flash = np.append(lats_flash, ds['flash_lat'])\n",
        "    lons_flash = np.append(lons_flash, ds['flash_lon'])\n",
        "\n",
        "    # fecha o arquivo\n",
        "    ds.close()\n",
        "\n",
        "    # incrementa 20s no tempo\n",
        "    date_ini = str(datetime.strptime(date_ini, '%Y-%m-%d %H:%M:%S') + timedelta(seconds=20))\n",
        "    print('\\n')"
      ],
      "metadata": {
        "id": "ssegXuZDuJeX"
      },
      "execution_count": null,
      "outputs": []
    },
    {
      "cell_type": "markdown",
      "source": [
        "##**c) Plota figura**"
      ],
      "metadata": {
        "id": "SJIMu6cHx1ZM"
      }
    },
    {
      "cell_type": "code",
      "source": [
        "# Leitura do arquivo\n",
        "imagem = xr.open_dataset(file_ir_download)\n",
        "\n",
        "# Limites da imagem\n",
        "latmin, latmax, lonmin, lonmax = float(imagem['lat'][0]), float(imagem['lat'][-1]), float(imagem['lon'][0]), float(imagem['lon'][-1])\n",
        "\n",
        "# Divide por 100 e transforma para Celsius\n",
        "imagem = (imagem['Band1']/100.)-273.15\n",
        "\n",
        "# Inverte a matriz\n",
        "imagem = np.flipud(imagem)"
      ],
      "metadata": {
        "id": "0bdxIvp-jDDE"
      },
      "execution_count": null,
      "outputs": []
    },
    {
      "cell_type": "code",
      "source": [
        "%%time\n",
        "# moldura da figura\n",
        "fig, ax = uplt.subplots(axwidth=5, axheight=5, tight=True, proj='pcarree')\n",
        "\n",
        "# define formato da figura\n",
        "ax.format(coast=True, borders=True, innerborders=False,\n",
        "          labels=True,\n",
        "          latlines=20, lonlines=20,\n",
        "          latlim=(latmin,latmax), lonlim=(lonmin,lonmax),\n",
        "          title=f'Temperatura (ABI, 10.35 µm) + Flashes (GLM): {ano}-{mes}-{dia} às {hor}:{min} UTC',\n",
        "          small='20px', large='15px')\n",
        "\n",
        "# carrega tabela de cores\n",
        "cpt_ir = loadCPT('/content/ir.cpt')\n",
        "cmap_ir = cm.colors.LinearSegmentedColormap('cpt_ir', cpt_ir)\n",
        "\n",
        "# plota mapa\n",
        "map1 = ax.imshow(imagem,\n",
        "                 cmap=cmap_ir,\n",
        "                 extent=[lonmin, lonmax, latmin, latmax],\n",
        "                 levels=uplt.arange(-103.0, 105, 1.0),\n",
        "                 alpha=0.5, zorder=1)\n",
        "\n",
        "#----------------------------------------------#\n",
        "#          Plotas os flashes\n",
        "#----------------------------------------------#\n",
        "# coloca os flashes num dataframe\n",
        "data_flash = {'lat': lats_flash, 'lon': lons_flash}\n",
        "df = pd.DataFrame(data_flash)\n",
        "\n",
        "# seleciona os flashes da região\n",
        "df_flash_filtered = df[ (df['lon'] > lonmin) & (df['lon'] < lonmax) & (df['lat'] > latmin) & (df['lat'] < latmax)]\n",
        "\n",
        "# transforma de dataframe para array\n",
        "lons_flash_filtered, lats_flash_filtered = df_flash_filtered['lon'].values, df_flash_filtered['lat'].values\n",
        "\n",
        "# plota flashes\n",
        "ax.scatter(lons_flash_filtered, lats_flash_filtered,\n",
        "           transform=ccrs.PlateCarree(),\n",
        "           marker='x', s=0.5, facecolor='black', edgecolor='black',\n",
        "           linewidth=1, alpha=0.8, zorder=2,\n",
        "           label=f'Flashes={len(lats_flash_filtered)}')\n",
        "#----------------------------------------------#\n",
        "\n",
        "# plota contornos dos Estados\n",
        "shapefile = list(shpreader.Reader('https://github.com/evmpython/CAT010_UNIFEI_2024/raw/main/shapefiles/BR_UF_2019.shp').geometries())\n",
        "ax.add_geometries(shapefile, ccrs.PlateCarree(), edgecolor='black', facecolor='none', linewidth=0.8, zorder=2)\n",
        "\n",
        "# plota barra de cores da figura\n",
        "fig.colorbar(map1, loc='r', label='Temperatura de Brilho ($\\degree$C)', ticks=25, ticklabelsize=13, labelsize=15, space=0.4) #, length=0.99\n",
        "\n",
        "# adiciona legenda\n",
        "ax.legend(loc='lr', ncols=1, frameon=True)\n",
        "\n",
        "# salva figura\n",
        "fig.save(f'{dir}output/Fig_1_goes16_flash_{ano}{mes}{dia}_{hor}{min}.jpg', dpi=300, bbox_inches='tight')"
      ],
      "metadata": {
        "id": "qBTdLcstxxYQ"
      },
      "execution_count": null,
      "outputs": []
    },
    {
      "cell_type": "markdown",
      "source": [
        "# **PARTE 3)**: Combinando imagem de satélite com flashes: Área com recorte"
      ],
      "metadata": {
        "id": "qevIWyQuwnWZ"
      }
    },
    {
      "cell_type": "code",
      "source": [
        "# define a área de recorte\n",
        "lonmin_rec, lonmax_rec, latmin_rec, latmax_rec = -42, -35, -30, -25"
      ],
      "metadata": {
        "id": "KZBuqeL4uJe5"
      },
      "execution_count": null,
      "outputs": []
    },
    {
      "cell_type": "code",
      "source": [
        "# Leitura do arquivo para a área de recorte\n",
        "imagem = xr.open_dataset(file_ir_download).sel(lon=slice(lonmin_rec, lonmax_rec), lat=slice(latmin_rec, latmax_rec))\n",
        "\n",
        "# Limites da imagem\n",
        "latmin, latmax, lonmin, lonmax = float(imagem['lat'][0]), float(imagem['lat'][-1]), float(imagem['lon'][0]), float(imagem['lon'][-1])\n",
        "\n",
        "# Divide por 100 e transforma para Celsius\n",
        "imagem = (imagem['Band1']/100.)-273.15\n",
        "\n",
        "# Inverte a matriz\n",
        "imagem = np.flipud(imagem)"
      ],
      "metadata": {
        "id": "sIeYU5gSkTE7"
      },
      "execution_count": null,
      "outputs": []
    },
    {
      "cell_type": "code",
      "source": [
        "# moldura da figura\n",
        "fig, ax = uplt.subplots(axwidth=5, axheight=5, tight=True, proj='pcarree')\n",
        "\n",
        "# define formato da figura\n",
        "ax.format(coast=True, borders=True, innerborders=False,\n",
        "          labels=True,\n",
        "          latlines=2, lonlines=2,\n",
        "          latlim=(latmin_rec,latmax_rec), lonlim=(lonmin_rec,lonmax_rec),\n",
        "          title=f'Temperatura (ABI, 10.35 µm) + Flashes (GLM): {ano}-{mes}-{dia} às {hor}:{min} UTC',\n",
        "          small='20px', large='15px')\n",
        "\n",
        "# carrega tabela de cores\n",
        "cpt_ir = loadCPT('/content/ir.cpt')\n",
        "cmap_ir = cm.colors.LinearSegmentedColormap('cpt_ir', cpt_ir)\n",
        "\n",
        "# plota mapa\n",
        "map1 = ax.imshow(imagem,\n",
        "                 cmap=cmap_ir,\n",
        "                 extent=[lonmin_rec, lonmax_rec, latmin_rec, latmax_rec],\n",
        "                 levels=uplt.arange(-103.0, 105, 1.0),\n",
        "                 alpha=0.8, zorder=1)\n",
        "\n",
        "#----------------------------------------------#\n",
        "#          Plotas os flashes\n",
        "#----------------------------------------------#\n",
        "# coloca os flashes num dataframe\n",
        "data_flash = {'lat': lats_flash, 'lon': lons_flash}\n",
        "df = pd.DataFrame(data_flash)\n",
        "\n",
        "# seleciona os flashes da região\n",
        "df_flash_filtered = df[ (df['lon'] > lonmin_rec) & (df['lon'] < lonmax_rec) & (df['lat'] > latmin_rec) & (df['lat'] < latmax_rec)]\n",
        "\n",
        "# transforma de dataframe para array\n",
        "lons_flash_filtered, lats_flash_filtered = df_flash_filtered['lon'].values, df_flash_filtered['lat'].values\n",
        "\n",
        "# plota flashes\n",
        "ax.scatter(lons_flash_filtered, lats_flash_filtered,\n",
        "           transform=ccrs.PlateCarree(),\n",
        "           marker='o', s=20, facecolor='white', edgecolor='black',\n",
        "           linewidth=1, alpha=0.8, zorder=2,\n",
        "           label=f'Flashes={len(lats_flash_filtered)}')\n",
        "#----------------------------------------------#\n",
        "\n",
        "# plota contornos dos Estados\n",
        "shapefile = list(shpreader.Reader('https://github.com/evmpython/CAT010_UNIFEI_2024/raw/main/shapefiles/BR_UF_2019.shp').geometries())\n",
        "ax.add_geometries(shapefile, ccrs.PlateCarree(), edgecolor='black', facecolor='none', linewidth=0.8, zorder=2)\n",
        "\n",
        "# plota barra de cores da figura\n",
        "fig.colorbar(map1, loc='r', label='Temperatura de Brilho ($\\degree$C)', ticks=25, ticklabelsize=13, labelsize=15, space=0.3, length=0.71)\n",
        "\n",
        "# adiciona legenda\n",
        "ax.legend(loc='lr', ncols=1, frameon=True)\n",
        "\n",
        "# salva figura\n",
        "fig.save(f'{dir}output/Fig_2_goes16_flash_{ano}{mes}{dia}_{hor}{min}_recorte.jpg', dpi=300, bbox_inches='tight')"
      ],
      "metadata": {
        "id": "5QXby2fnjQMv"
      },
      "execution_count": null,
      "outputs": []
    },
    {
      "cell_type": "markdown",
      "source": [
        "# **PARTE 4)**: Faz animação das imagens combinadas de satélite e flashes: Área com recorte"
      ],
      "metadata": {
        "id": "5hgz0k9Dwzmx"
      }
    },
    {
      "cell_type": "markdown",
      "source": [
        "##**a) Define o período de imagens de satélite**"
      ],
      "metadata": {
        "id": "pGJOzJFBlQ0Z"
      }
    },
    {
      "cell_type": "code",
      "source": [
        "# data INICIAL\n",
        "anoi, mesi, diai, hori, mini = 2021, 1, 1, 17, 0 # ano, mês, dia, hora e minuto inicial do período\n",
        "\n",
        "# data FINAL\n",
        "anof, mesf, diaf, horf, minf = 2021, 1, 1, 18, 30 # ano, mês, dia, hora e minuto final do período"
      ],
      "metadata": {
        "id": "711AKRuPw6yP"
      },
      "execution_count": null,
      "outputs": []
    },
    {
      "cell_type": "code",
      "source": [
        "# define a área de recorte\n",
        "lonmin_rec, lonmax_rec, latmin_rec, latmax_rec = -42, -35, -30, -25"
      ],
      "metadata": {
        "id": "V-9x1DKIw7N4"
      },
      "execution_count": null,
      "outputs": []
    },
    {
      "cell_type": "markdown",
      "source": [
        "##**b) Download das imagens de satélite**"
      ],
      "metadata": {
        "id": "Au99cyizlXWt"
      }
    },
    {
      "cell_type": "code",
      "source": [
        "# Inicia o contador de tempo\n",
        "start_time = t.time()\n",
        "\n",
        "# Data desejada\n",
        "date_in = datetime(anoi, mesi, diai, hori, mini)  # 2022-02-02 00:00:00\n",
        "date_ini = date_in.strftime('%Y%m%d%H%M') # 20220202\n",
        "\n",
        "date_en = datetime(anof, mesf, diaf, horf, minf)\n",
        "date_end = date_en.strftime('%Y%m%d%H%M')\n",
        "\n",
        "print('.... Processando Data ...:', date_ini, date_end, '\\n')\n",
        "\n",
        "# Download dos dados\n",
        "files_imagens = []\n",
        "for file in pd.date_range(date_ini,\n",
        "                          date_end,\n",
        "                          freq='10min'):\n",
        "\n",
        "    # Extrai ano e mes\n",
        "    data = file.strftime('%Y%m%d%H%M')\n",
        "    ano = file.strftime('%Y')\n",
        "    mes = file.strftime('%m')\n",
        "    dia = file.strftime('%d')\n",
        "    hor = file.strftime('%H')\n",
        "    min = file.strftime('%M')\n",
        "\n",
        "    # baixa imagem de satélite\n",
        "    file_ir_download = download_ABI_CPTEC(ano, mes, dia, hor, min, canal)\n",
        "\n",
        "    # salva o nomes das imagens baixadas\n",
        "    files_imagens.append(file_ir_download)\n",
        "\n",
        "# Contabiliza o tempo para baixar os dados\n",
        "print('\\nTempo de download dos dados:', round((t.time() - start_time),2), 'segundos.')"
      ],
      "metadata": {
        "id": "SK1vxvl0lWm9"
      },
      "execution_count": null,
      "outputs": []
    },
    {
      "cell_type": "code",
      "source": [
        "# mostra os nomes das imagens de satélite que foram baixadas\n",
        "files_imagens"
      ],
      "metadata": {
        "id": "AjHHwcz9lWpo"
      },
      "execution_count": null,
      "outputs": []
    },
    {
      "cell_type": "markdown",
      "source": [
        "##**c) Plotando as imagens de satélite + relâmpagos**"
      ],
      "metadata": {
        "id": "vW6rGhfuliZr"
      }
    },
    {
      "cell_type": "code",
      "source": [
        "# Loop nas imagens baixadas\n",
        "for file in files_imagens:\n",
        "\n",
        "    # extrai a data e horário da imagem\n",
        "    basename = os.path.basename(os.path.splitext(file)[0]) # S10635334_202101011700.nc\n",
        "    ano, mes, dia, hor, min = basename[10:14], basename[14:16], basename[16:18], basename[18:20], basename[20:22]\n",
        "\n",
        "    print('---------------------------------------------------------------------')\n",
        "    print('PROCESSANDO IMAGEM=', basename)\n",
        "    print('---------------------------------------------------------------------')\n",
        "\n",
        "    # Leitura do arquivo\n",
        "    imagem = xr.open_dataset(file).sel(lon=slice(lonmin_rec, lonmax_rec), lat=slice(latmin_rec, latmax_rec))\n",
        "\n",
        "    # Divide por 100 e transforma para Celsius\n",
        "    imagem = (imagem['Band1']/100.)-273.15\n",
        "\n",
        "    # Inverte a matriz\n",
        "    imagem = np.flipud(imagem)\n",
        "\n",
        "    # moldura da figura\n",
        "    fig, ax = uplt.subplots(axwidth=5, axheight=5, tight=True, proj='pcarree')\n",
        "\n",
        "    # define formato da figura\n",
        "    ax.format(coast=False, borders=False, innerborders=False,\n",
        "              labels=True,\n",
        "              latlines=2, lonlines=2,\n",
        "              latlim=(latmin,latmax), lonlim=(lonmin,lonmax),\n",
        "              title=f'Temperatura (ABI, 10.35 µm) + Flashes (GLM): {ano}-{mes}-{dia} às {hor}:{min} UTC',\n",
        "              small='20px', large='15px')\n",
        "\n",
        "    # carrega tabela de cores\n",
        "    cpt_ir = loadCPT('/content/ir.cpt')\n",
        "    cmap_ir = cm.colors.LinearSegmentedColormap('cpt_ir', cpt_ir)\n",
        "\n",
        "    # plota mapa\n",
        "    map1 = ax.imshow(imagem,\n",
        "                     cmap=cmap_ir,\n",
        "                     extent=[lonmin_rec, lonmax_rec, latmin_rec, latmax_rec],\n",
        "                     levels=uplt.arange(-103.0, 105, 1.0),\n",
        "                     alpha=0.8, zorder=1)\n",
        "\n",
        "    # baixa dados do GLM\n",
        "    lats_event, lons_event, lats_group, lons_group, lats_flash, lons_flash = download_e_acumula_GLM(ano, mes, dia, hor, min)\n",
        "\n",
        "    #----------------------------------------------#\n",
        "    #          Plotas os flashes\n",
        "    #----------------------------------------------#\n",
        "    # coloca os flashes num dataframe\n",
        "    data_flash = {'lat': lats_flash, 'lon': lons_flash}\n",
        "    df = pd.DataFrame(data_flash)\n",
        "\n",
        "    # seleciona os flashes da região\n",
        "    df_flash_filtered = df[ (df['lon'] > lonmin_rec) & (df['lon'] < lonmax_rec) & (df['lat'] > latmin_rec) & (df['lat'] < latmax_rec)]\n",
        "\n",
        "    # transforma de dataframe para array\n",
        "    lons_flash_filtered, lats_flash_filtered = df_flash_filtered['lon'].values, df_flash_filtered['lat'].values\n",
        "\n",
        "    # plota flashes\n",
        "    ax.scatter(lons_flash_filtered, lats_flash_filtered,\n",
        "               transform=ccrs.PlateCarree(),\n",
        "               marker='o', s=20, facecolor='white', edgecolor='black',\n",
        "               linewidth=1, alpha=0.8, zorder=2,\n",
        "               label=f'Flashes={len(lats_flash_filtered)}')\n",
        "    #----------------------------------------------#\n",
        "\n",
        "    # plota contornos dos Estados\n",
        "    shapefile = list(shpreader.Reader('https://github.com/evmpython/CAT010_UNIFEI_2024/raw/main/shapefiles/BR_UF_2019.shp').geometries())\n",
        "    ax.add_geometries(shapefile, ccrs.PlateCarree(), edgecolor='black', facecolor='none', linewidth=0.8, zorder=2)\n",
        "\n",
        "    # plota barra de cores da figura\n",
        "    fig.colorbar(map1, loc='r', label='Temperatura de Brilho ($\\degree$C)', ticks=25, ticklabelsize=13, labelsize=15, space=0.3, length=0.71)\n",
        "\n",
        "    # adiciona legenda\n",
        "    ax.legend(loc='lr', ncols=1, frameon=True)\n",
        "\n",
        "    # salva figura\n",
        "    fig.save(f'{dir}output/Fig_3_goes16_flash_{ano}{mes}{dia}_{hor}{min}_recorte.jpg', dpi=300, bbox_inches='tight')"
      ],
      "metadata": {
        "id": "iF8x8TZ7lgsC"
      },
      "execution_count": null,
      "outputs": []
    },
    {
      "cell_type": "markdown",
      "source": [
        "##**Faz animação**"
      ],
      "metadata": {
        "id": "0Je_sL8XnH4u"
      }
    },
    {
      "cell_type": "code",
      "source": [
        "# Images we want to include in the GIF\n",
        "files = sorted(glob.glob(f'{dir}output/Fig_3_goes16_flash_*.jpg'))\n",
        "files"
      ],
      "metadata": {
        "id": "6hl3odC-nUK7"
      },
      "execution_count": null,
      "outputs": []
    },
    {
      "cell_type": "code",
      "source": [
        "%%time\n",
        "# cria o GIF\n",
        "images = []\n",
        "for file in files:\n",
        "    images.append(imageio.imread(file))\n",
        "\n",
        "# salva o GIF\n",
        "imageio.mimsave(f'{dir}output/Fig_3_animation.gif',\n",
        "                images,\n",
        "                duration=500,\n",
        "                loop=0)\n",
        "\n",
        "# mostrando a animação na tela\n",
        "print(\"\\nAbrindo o GIF..\\n\")\n",
        "\n",
        "from IPython.display import Image\n",
        "\n",
        "Image(open(f'{dir}output/Fig_3_animation.gif','rb').read(), width=600)"
      ],
      "metadata": {
        "id": "y9uDDxnZnIdv"
      },
      "execution_count": null,
      "outputs": []
    },
    {
      "cell_type": "markdown",
      "source": [
        "# **PARTE 5)**: Combinando imagem de satélite com eventos, grupos e flashes: Área com recorte"
      ],
      "metadata": {
        "id": "v6nL2-QGjVTX"
      }
    },
    {
      "cell_type": "markdown",
      "source": [
        "##**a) Definindo data/horário e canal da imagem**"
      ],
      "metadata": {
        "id": "HPPey2j2p5oP"
      }
    },
    {
      "cell_type": "code",
      "source": [
        "# define data/horário e canal\n",
        "ano, mes, dia, hor, min, canal = '2021', '01', '01', '17', '00', 'ch13'"
      ],
      "metadata": {
        "id": "IjoaQumlp6e2"
      },
      "execution_count": null,
      "outputs": []
    },
    {
      "cell_type": "code",
      "source": [
        "# baixa imagem de satélite do FTP do CPTEC\n",
        "file_ir_download = download_ABI_CPTEC(ano, mes, dia, hor, min, canal)"
      ],
      "metadata": {
        "id": "1UtIe3hKp6hn"
      },
      "execution_count": null,
      "outputs": []
    },
    {
      "cell_type": "markdown",
      "source": [
        "##**b) Acumula os flashes**"
      ],
      "metadata": {
        "id": "ZAZRWcQaqUdY"
      }
    },
    {
      "cell_type": "code",
      "source": [
        "# define data a INICIAL para acumular os relâmpagos\n",
        "date_ini = str(datetime(int(ano), int(mes), int(dia), int(hor), int(min)))\n",
        "\n",
        "# define data FINAL para acumular os relâmpagos\n",
        "date_end = str(datetime(int(ano), int(mes), int(dia), int(hor), int(min)) + timedelta(minutes=10)) # soma 10 minutos na data inicial"
      ],
      "metadata": {
        "id": "WXVS-8biqVkj"
      },
      "execution_count": null,
      "outputs": []
    },
    {
      "cell_type": "code",
      "source": [
        "# mostra na tela as datas\n",
        "print('Tipo da variável=', type(date_ini))\n",
        "print('Tipo da variável=', type(date_end))\n",
        "print('Data Inicial=', date_ini)\n",
        "print('Data Final=', date_end)"
      ],
      "metadata": {
        "id": "_MXdyWnuqVnO"
      },
      "execution_count": null,
      "outputs": []
    },
    {
      "cell_type": "code",
      "source": [
        "# inicializa os arrays de latitude e longitude\n",
        "lats_event, lons_event = np.array([]), np.array([])\n",
        "lats_group, lons_group = np.array([]), np.array([])\n",
        "lats_flash, lons_flash = np.array([]), np.array([])\n",
        "\n",
        "# loop da acumulação de relâmpagos\n",
        "while (date_ini < date_end):\n",
        "\n",
        "    # mostra na tela a data de processamento atual\n",
        "    print('PROCESSANDO DATA....', date_ini)\n",
        "\n",
        "    # estrutura da data\n",
        "    yyyymmddhhmnss = datetime.strptime(date_ini, '%Y-%m-%d %H:%M:%S').strftime('%Y%m%d%H%M%S')\n",
        "\n",
        "    # baixando GLM\n",
        "    file_glm = download_GLM(yyyymmddhhmnss, '/content')\n",
        "\n",
        "    # leitura GLM\n",
        "    ds = xr.open_dataset(f'/content/{file_glm}.nc')\n",
        "\n",
        "    # apenda as lats/lons dos eventos, grupos e flashes\n",
        "    lats_event = np.append(lats_event, ds['event_lat'])\n",
        "    lons_event = np.append(lons_event, ds['event_lon'])\n",
        "\n",
        "    lats_group = np.append(lats_group, ds['group_lat'])\n",
        "    lons_group = np.append(lons_group, ds['group_lon'])\n",
        "\n",
        "    lats_flash = np.append(lats_flash, ds['flash_lat'])\n",
        "    lons_flash = np.append(lons_flash, ds['flash_lon'])\n",
        "\n",
        "    # fecha o arquivo\n",
        "    ds.close()\n",
        "\n",
        "    # incrementa 20s no tempo\n",
        "    date_ini = str(datetime.strptime(date_ini, '%Y-%m-%d %H:%M:%S') + timedelta(seconds=20))\n",
        "    print('\\n')"
      ],
      "metadata": {
        "id": "NQy7gBJ1qVqQ"
      },
      "execution_count": null,
      "outputs": []
    },
    {
      "cell_type": "markdown",
      "source": [
        "##**c) Plota imagem**"
      ],
      "metadata": {
        "id": "j5vvQsZ-p9ry"
      }
    },
    {
      "cell_type": "code",
      "source": [
        "# Leitura do arquivo para a área de recorte\n",
        "imagem = xr.open_dataset(file_ir_download).sel(lon=slice(lonmin_rec, lonmax_rec), lat=slice(latmin_rec, latmax_rec))\n",
        "\n",
        "# Limites da imagem\n",
        "latmin, latmax, lonmin, lonmax = float(imagem['lat'][0]), float(imagem['lat'][-1]), float(imagem['lon'][0]), float(imagem['lon'][-1])\n",
        "\n",
        "# Divide por 100 e transforma para Celsius\n",
        "imagem = (imagem['Band1']/100.)-273.15\n",
        "\n",
        "# Inverte a matriz\n",
        "imagem = np.flipud(imagem)"
      ],
      "metadata": {
        "id": "N_6C6pl6oFyp"
      },
      "execution_count": null,
      "outputs": []
    },
    {
      "cell_type": "code",
      "source": [
        "# define a moldura da figura\n",
        "fig, ax = uplt.subplots([[1, 1, 2, 2],[0, 3, 3, 0]], axwidth=3, axheight=3, tight=True, proj='pcarree')\n",
        "\n",
        "# formatação dos eixos\n",
        "ax.format(coast=False, borders=False, innerborders=False,\n",
        "          labels=True, latlines=2, lonlines=2,\n",
        "          suptitle=f'GLM (GOES-16): {ano}-{mes}-{dia} às {hor}{min} UTC',\n",
        "          latlim=(latmin, latmax), lonlim=(lonmin, lonmax),\n",
        "          abc=True, abcstyle='a)', abcsize=5,\n",
        "          small='15px', large='15px')\n",
        "\n",
        "# carrega tabela de cores\n",
        "cpt_ir = loadCPT('/content/ir.cpt')\n",
        "cmap_ir = cm.colors.LinearSegmentedColormap('cpt_ir', cpt_ir)\n",
        "\n",
        "#--------------------------------#\n",
        "#    FIG 1: PLOTA EVENTOS\n",
        "#--------------------------------#\n",
        "# plota mapa\n",
        "map1 = ax[0].imshow(imagem,\n",
        "                    cmap=cmap_ir,\n",
        "                    extent=[lonmin_rec, lonmax_rec, latmin_rec, latmax_rec],\n",
        "                    levels=uplt.arange(-103.0, 105, 1.0),\n",
        "                    alpha=0.8, zorder=1)\n",
        "\n",
        "# Plota os Eventos\n",
        "#----------------------------------------------#\n",
        "# coloca os eventos num dataframe\n",
        "data_event = {'lat': lats_event, 'lon': lons_event}\n",
        "df = pd.DataFrame(data_event)\n",
        "\n",
        "# seleciona os eventos da região\n",
        "df_event_filtered = df[ (df['lon'] > lonmin_rec) & (df['lon'] < lonmax_rec) & (df['lat'] > latmin_rec) & (df['lat'] < latmax_rec)]\n",
        "\n",
        "# transforma de dataframe para array\n",
        "lons_event_filtered, lats_event_filtered = df_event_filtered['lon'].values, df_event_filtered['lat'].values\n",
        "\n",
        "# plota eventos\n",
        "ax[0].scatter(lons_event_filtered, lats_event_filtered,\n",
        "              transform=ccrs.PlateCarree(),\n",
        "              marker='o', s=10, facecolor='white', edgecolor='black',\n",
        "              linewidth=1, alpha=0.8, zorder=2,\n",
        "              label=f'Eventos={len(lats_event_filtered)}')\n",
        "#----------------------------------------------#\n",
        "\n",
        "# define título da figura\n",
        "ax[0].format(title='Eventos')\n",
        "\n",
        "#--------------------------------#\n",
        "#    FIG 2: PLOTA GRUPOS\n",
        "#--------------------------------#\n",
        "# plota mapa\n",
        "ax[1].imshow(imagem,\n",
        "             cmap=cmap_ir,\n",
        "             extent=[lonmin_rec, lonmax_rec, latmin_rec, latmax_rec],\n",
        "             levels=uplt.arange(-103.0, 105, 1.0),\n",
        "             alpha=0.8, zorder=1)\n",
        "\n",
        "# Plota os Grupos\n",
        "#----------------------------------------------#\n",
        "# coloca os grupos num dataframe\n",
        "data_group = {'lat': lats_group, 'lon': lons_group}\n",
        "df = pd.DataFrame(data_group)\n",
        "\n",
        "# seleciona os grupos da região\n",
        "df_group_filtered = df[ (df['lon'] > lonmin_rec) & (df['lon'] < lonmax_rec) & (df['lat'] > latmin_rec) & (df['lat'] < latmax_rec)]\n",
        "\n",
        "# transforma de dataframe para array\n",
        "lons_group_filtered, lats_group_filtered = df_group_filtered['lon'].values, df_group_filtered['lat'].values\n",
        "\n",
        "# plota grupos\n",
        "ax[1].scatter(lons_group_filtered, lats_group_filtered,\n",
        "              transform=ccrs.PlateCarree(),\n",
        "              marker='o', s=10, facecolor='white', edgecolor='black',\n",
        "              linewidth=1, alpha=0.8, zorder=2,\n",
        "              label=f'Grupos={len(lats_group_filtered)}')\n",
        "#----------------------------------------------#\n",
        "\n",
        "# define título da figura\n",
        "ax[1].format(title='Grupos')\n",
        "\n",
        "#--------------------------------#\n",
        "#    FIG 3: PLOTA FLASHES\n",
        "#--------------------------------#\n",
        "ax[2].imshow(imagem,\n",
        "             cmap=cmap_ir,\n",
        "             extent=[lonmin_rec, lonmax_rec, latmin_rec, latmax_rec],\n",
        "             levels=uplt.arange(-103.0, 105, 1.0),\n",
        "             alpha=0.8, zorder=1)\n",
        "\n",
        "# Plota os Flashes\n",
        "#----------------------------------------------#\n",
        "# coloca os flashes num dataframe\n",
        "data_flash = {'lat': lats_flash, 'lon': lons_flash}\n",
        "df = pd.DataFrame(data_flash)\n",
        "\n",
        "# seleciona os flashes da região\n",
        "df_flash_filtered = df[ (df['lon'] > lonmin_rec) & (df['lon'] < lonmax_rec) & (df['lat'] > latmin_rec) & (df['lat'] < latmax_rec)]\n",
        "\n",
        "# transforma de dataframe para array\n",
        "lons_flash_filtered, lats_flash_filtered = df_flash_filtered['lon'].values, df_flash_filtered['lat'].values\n",
        "\n",
        "# plota eventos\n",
        "ax[2].scatter(lons_flash_filtered, lats_flash_filtered,\n",
        "              transform=ccrs.PlateCarree(),\n",
        "              marker='o', s=10, facecolor='white', edgecolor='black',\n",
        "              linewidth=1, alpha=0.8, zorder=2,\n",
        "              label=f'Flashes={len(lats_flash_filtered)}')\n",
        "#----------------------------------------------#\n",
        "\n",
        "# define título da figura\n",
        "ax[2].format(title='Flashes')\n",
        "#--------------------------------#\n",
        "\n",
        "# plota barra de cores da figura\n",
        "fig.colorbar(map1, loc='r', label='Temperatura de Brilho ($\\degree$C)', ticks=25, ticklabelsize=12, labelsize=12, space=0.3, length=0.73)\n",
        "\n",
        "# adiciona legenda\n",
        "ax.legend(loc='lr', ncols=1, frameon=True)\n",
        "\n",
        "# salva figura\n",
        "fig.save(f'{dir}output/Fig_4_goes16_evento_grupo_flash_{ano}{mes}{dia}_{hor}{min}_recorte.jpg', dpi=300, bbox_inches='tight')"
      ],
      "metadata": {
        "id": "7_nx8cZnn9Xw"
      },
      "execution_count": null,
      "outputs": []
    }
  ]
}